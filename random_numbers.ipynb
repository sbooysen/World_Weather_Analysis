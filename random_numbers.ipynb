{
 "cells": [
  {
   "cell_type": "code",
   "execution_count": 1,
   "id": "4ef73b12",
   "metadata": {},
   "outputs": [],
   "source": [
    "# Import the random module.\n",
    "import random"
   ]
  },
  {
   "cell_type": "code",
   "execution_count": 2,
   "id": "599eec75",
   "metadata": {},
   "outputs": [
    {
     "data": {
      "text/plain": [
       "1"
      ]
     },
     "execution_count": 2,
     "metadata": {},
     "output_type": "execute_result"
    }
   ],
   "source": [
    "random.randint(-90, 90)"
   ]
  },
  {
   "cell_type": "code",
   "execution_count": 3,
   "id": "36407d95",
   "metadata": {},
   "outputs": [
    {
     "data": {
      "text/plain": [
       "0.5659273581635107"
      ]
     },
     "execution_count": 3,
     "metadata": {},
     "output_type": "execute_result"
    }
   ],
   "source": [
    "random.random()"
   ]
  },
  {
   "cell_type": "code",
   "execution_count": 4,
   "id": "44aad4ad",
   "metadata": {},
   "outputs": [],
   "source": [
    "x = 1\n",
    "latitudes = []\n",
    "while x < 11:\n",
    "    random_lat = random.randint(-90, 89) + random.random()\n",
    "    latitudes.append(random_lat)\n",
    "    x += 1"
   ]
  },
  {
   "cell_type": "code",
   "execution_count": 5,
   "id": "ae20d05f",
   "metadata": {},
   "outputs": [
    {
     "data": {
      "text/plain": [
       "[86.84812193080408,\n",
       " -27.53919965756456,\n",
       " -71.38267001384793,\n",
       " -59.4288237343948,\n",
       " 49.74587730249689,\n",
       " -5.908972590565369,\n",
       " -20.194262954795022,\n",
       " 89.00313363060658,\n",
       " 44.54111261022612,\n",
       " 77.80895708309242]"
      ]
     },
     "execution_count": 5,
     "metadata": {},
     "output_type": "execute_result"
    }
   ],
   "source": [
    "latitudes"
   ]
  },
  {
   "cell_type": "code",
   "execution_count": 6,
   "id": "55756ae2",
   "metadata": {},
   "outputs": [
    {
     "data": {
      "text/plain": [
       "-10"
      ]
     },
     "execution_count": 6,
     "metadata": {},
     "output_type": "execute_result"
    }
   ],
   "source": [
    "random.randrange(-90, 90, step=1)"
   ]
  },
  {
   "cell_type": "code",
   "execution_count": 7,
   "id": "13fa048f",
   "metadata": {},
   "outputs": [
    {
     "data": {
      "text/plain": [
       "-30"
      ]
     },
     "execution_count": 7,
     "metadata": {},
     "output_type": "execute_result"
    }
   ],
   "source": [
    "random.randrange(-90, 90, step=3)"
   ]
  },
  {
   "cell_type": "code",
   "execution_count": 8,
   "id": "69799b90",
   "metadata": {},
   "outputs": [
    {
     "data": {
      "text/plain": [
       "-17.353030860397425"
      ]
     },
     "execution_count": 8,
     "metadata": {},
     "output_type": "execute_result"
    }
   ],
   "source": [
    "random.uniform(-90, 90)"
   ]
  },
  {
   "cell_type": "code",
   "execution_count": 9,
   "id": "61b383cd",
   "metadata": {},
   "outputs": [],
   "source": [
    "# Import the NumPy module.\n",
    "import numpy as np"
   ]
  },
  {
   "cell_type": "code",
   "execution_count": 10,
   "id": "0ce4c7cd",
   "metadata": {},
   "outputs": [
    {
     "data": {
      "text/plain": [
       "88.15295995997323"
      ]
     },
     "execution_count": 10,
     "metadata": {},
     "output_type": "execute_result"
    }
   ],
   "source": [
    "np.random.uniform(-90.000, 90.000)"
   ]
  },
  {
   "cell_type": "code",
   "execution_count": 11,
   "id": "2915f321",
   "metadata": {},
   "outputs": [
    {
     "data": {
      "text/plain": [
       "55.468176014793045"
      ]
     },
     "execution_count": 11,
     "metadata": {},
     "output_type": "execute_result"
    }
   ],
   "source": [
    "np.random.uniform(low=-90, high=90)"
   ]
  },
  {
   "cell_type": "code",
   "execution_count": 12,
   "id": "cf51770d",
   "metadata": {},
   "outputs": [
    {
     "data": {
      "text/plain": [
       "array([-51.69600107,  -2.6927429 , -62.6621683 ,  44.24211275,\n",
       "        44.40514362,  45.83748623, -55.23037475,  25.75568378,\n",
       "        35.51690496, -43.40278215, -76.04726743,  70.43400023,\n",
       "       -10.88850452,  66.26833706,  17.05262684, -27.79543631,\n",
       "        25.70434889,   6.45476228,  24.34221036, -50.95153971,\n",
       "        50.9783258 ,   8.16874365,  25.80196765, -67.50790741,\n",
       "        51.4161173 ,  20.6102283 ,  66.40597652, -35.45641366,\n",
       "        65.3902723 ,  65.64700191, -68.82248743,  39.24375403,\n",
       "        63.6361182 ,  88.31126763,  25.28871782,  48.87093239,\n",
       "       -28.18359854,  86.25082856,  17.65677745,   1.42424083,\n",
       "       -66.56597033,  72.75244708, -88.27686335, -65.91211635,\n",
       "       -51.07216639, -14.66877461, -67.46148292,  -9.33900985,\n",
       "        38.7917591 ,  -4.18334985])"
      ]
     },
     "execution_count": 12,
     "metadata": {},
     "output_type": "execute_result"
    }
   ],
   "source": [
    "np.random.uniform(-90.000, 90.000, size=50)"
   ]
  },
  {
   "cell_type": "code",
   "execution_count": 13,
   "id": "1ed44b91",
   "metadata": {},
   "outputs": [],
   "source": [
    "# Import timeit.\n",
    "import timeit"
   ]
  },
  {
   "cell_type": "code",
   "execution_count": null,
   "id": "9860fe78",
   "metadata": {},
   "outputs": [],
   "source": [
    "%timeit np.random.uniform(-90.000, 90.000, size=1500)"
   ]
  },
  {
   "cell_type": "code",
   "execution_count": null,
   "id": "3b8294a7",
   "metadata": {},
   "outputs": [],
   "source": [
    "def latitudes(size):\n",
    "    latitudes = []\n",
    "    x = 0\n",
    "    while x < (size):\n",
    "        random_lat = random.randint(-90, 90) + random.random()\n",
    "        latitudes.append(random_lat)\n",
    "        x += 1\n",
    "    return latitudes\n",
    "# Call the function with 1500.\n",
    "%timeit latitudes(1500)"
   ]
  },
  {
   "cell_type": "code",
   "execution_count": null,
   "id": "5b110b3f",
   "metadata": {},
   "outputs": [],
   "source": []
  }
 ],
 "metadata": {
  "kernelspec": {
   "display_name": "PythonData",
   "language": "python",
   "name": "pythondata"
  },
  "language_info": {
   "codemirror_mode": {
    "name": "ipython",
    "version": 3
   },
   "file_extension": ".py",
   "mimetype": "text/x-python",
   "name": "python",
   "nbconvert_exporter": "python",
   "pygments_lexer": "ipython3",
   "version": "3.7.11"
  }
 },
 "nbformat": 4,
 "nbformat_minor": 5
}
